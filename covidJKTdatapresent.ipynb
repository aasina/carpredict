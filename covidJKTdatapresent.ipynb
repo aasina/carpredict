{
 "cells": [
  {
   "cell_type": "code",
   "execution_count": null,
   "metadata": {},
   "outputs": [],
   "source": [
    "import pandas as pd\n",
    "import seaborn as sns\n",
    "import numpy as np\n",
    "import matplotlib.pyplot as plt\n",
    "%matplotlib inline\n",
    "\n",
    "plt.rcParams[\"figure.figsize\"] = (12,5)"
   ]
  },
  {
   "cell_type": "code",
   "execution_count": null,
   "metadata": {},
   "outputs": [],
   "source": [
    "datacovid = pd.read_csv('datasetcovidsamplejkt.csv')\n",
    "\n",
    "sample_data = datacovid.sample(5)"
   ]
  },
  {
   "cell_type": "code",
   "execution_count": null,
   "metadata": {},
   "outputs": [],
   "source": [
    "datacovid.describe(include=\"all\")"
   ]
  },
  {
   "cell_type": "code",
   "execution_count": null,
   "metadata": {},
   "outputs": [],
   "source": [
    "sns.boxplot(x=\"Variant_Suspect\", y=\"JKT_DAILY_DEATH\", data=datacovid)"
   ]
  },
  {
   "cell_type": "code",
   "execution_count": null,
   "metadata": {},
   "outputs": [],
   "source": [
    "sns.countplot(x=\"Variant_Suspect\", hue=\"Risk_Criteria\", data=datacovid)"
   ]
  },
  {
   "cell_type": "code",
   "execution_count": null,
   "metadata": {},
   "outputs": [],
   "source": [
    "covid_JKT = datacovid.loc[:,['Variant_Suspect','Day','JKT_DAILY_POSITIVE','JKT_DAILY_DEATH','JKT_DAILY_HOSPITALIZED','JKT_DAILY_POSTRATE','JKT_DAILY_TESTSPECIMENT','Risk','Risk_Criteria']]\n",
    "\n",
    "sns.pairplot(covid_JKT,hue='Variant_Suspect').fig.suptitle(\"Pair Plot Covid Jakarta\", y=1.01)"
   ]
  },
  {
   "cell_type": "code",
   "execution_count": null,
   "metadata": {},
   "outputs": [],
   "source": [
    "covid_ABG = datacovid.loc[datacovid.Variant_Suspect=='Alpha-Beta-Gamma',['Day','JKT_DAILY_POSITIVE','JKT_DAILY_DEATH','JKT_DAILY_HOSPITALIZED','JKT_DAILY_POSTRATE','JKT_DAILY_TESTSPECIMENT','Risk','Risk_Criteria']]\n",
    "covid_Delta = datacovid.loc[datacovid.Variant_Suspect=='Delta',['Day','JKT_DAILY_POSITIVE','JKT_DAILY_DEATH','JKT_DAILY_HOSPITALIZED','JKT_DAILY_POSTRATE','JKT_DAILY_TESTSPECIMENT','Risk','Risk_Criteria']]\n",
    "covid_Omicron = datacovid.loc[datacovid.Variant_Suspect=='Omicron',['Day','JKT_DAILY_POSITIVE','JKT_DAILY_DEATH','JKT_DAILY_HOSPITALIZED','JKT_DAILY_POSTRATE','JKT_DAILY_TESTSPECIMENT','Risk','Risk_Criteria']]"
   ]
  },
  {
   "cell_type": "code",
   "execution_count": null,
   "metadata": {},
   "outputs": [],
   "source": [
    "y1 = covid_ABG.JKT_DAILY_POSITIVE\n",
    "y2 = covid_Delta.JKT_DAILY_POSITIVE\n",
    "y3 = covid_Omicron.JKT_DAILY_POSITIVE\n",
    "\n",
    "x1 = covid_ABG.Day\n",
    "x2 = covid_Delta.Day\n",
    "x3 = covid_Omicron.Day\n",
    "\n",
    "plt.rcParams[\"figure.figsize\"] = (15,8)\n",
    "plt.plot(x1,y1,'--r',label=\"Daily Alpha-Beta-Gamma\")\n",
    "plt.plot(x2,y2,'-.b',label=\"Daily Delta\")\n",
    "plt.plot(x3,y3,'g', label=\"Daily Omicron\")\n",
    "plt.xlabel('Day#')\n",
    "plt.ylabel('People Positive Covid')\n",
    "plt.legend()\n",
    "plt.show()"
   ]
  },
  {
   "cell_type": "code",
   "execution_count": null,
   "metadata": {},
   "outputs": [],
   "source": [
    "sns.pairplot(covid_ABG).fig.suptitle(\"Pair Plot Covid Variant Alpha - Beta - Gamma\", y=1.01)\n",
    "sns.pairplot(covid_Delta).fig.suptitle(\"Pair Plot Covid Variant Delta\", y=1.01)\n",
    "sns.pairplot(covid_Omicron).fig.suptitle(\"Pair Plot Covid Variant Omicron\", y=1.01)"
   ]
  },
  {
   "cell_type": "code",
   "execution_count": null,
   "metadata": {},
   "outputs": [],
   "source": [
    "corrdata_ABG = covid_ABG.corr()\n",
    "\n",
    "corrdata_ABG"
   ]
  },
  {
   "cell_type": "code",
   "execution_count": null,
   "metadata": {},
   "outputs": [],
   "source": [
    "sns.heatmap(corrdata_ABG, annot=True)"
   ]
  },
  {
   "cell_type": "code",
   "execution_count": null,
   "metadata": {},
   "outputs": [],
   "source": [
    "corrdata_Delta = covid_Delta.corr()\n",
    "\n",
    "corrdata_Delta"
   ]
  },
  {
   "cell_type": "code",
   "execution_count": null,
   "metadata": {},
   "outputs": [],
   "source": [
    "sns.heatmap(corrdata_Delta, annot=True)"
   ]
  },
  {
   "cell_type": "code",
   "execution_count": null,
   "metadata": {},
   "outputs": [],
   "source": [
    "corrdata_Omicron = covid_Omicron.corr()\n",
    "\n",
    "corrdata_Omicron"
   ]
  },
  {
   "cell_type": "code",
   "execution_count": null,
   "metadata": {},
   "outputs": [],
   "source": [
    "sns.heatmap(corrdata_Delta, annot=True)"
   ]
  }
 ],
 "metadata": {
  "interpreter": {
   "hash": "0af63343b1b6c9e2ee9538a89e1e1604753fa93a79f7cd45f8db2539e51a0c87"
  },
  "kernelspec": {
   "display_name": "Python 3.9.7 ('sandboxML')",
   "language": "python",
   "name": "python3"
  },
  "language_info": {
   "codemirror_mode": {
    "name": "ipython",
    "version": 3
   },
   "file_extension": ".py",
   "mimetype": "text/x-python",
   "name": "python",
   "nbconvert_exporter": "python",
   "pygments_lexer": "ipython3",
   "version": "3.9.7"
  },
  "orig_nbformat": 4
 },
 "nbformat": 4,
 "nbformat_minor": 2
}
