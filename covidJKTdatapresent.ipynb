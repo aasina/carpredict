{
 "cells": [
  {
   "cell_type": "code",
   "execution_count": 1,
   "metadata": {},
   "outputs": [],
   "source": [
    "import pandas as pd\n",
    "import seaborn as sns\n",
    "import numpy as np\n",
    "import matplotlib.pyplot as plt\n",
    "import plotly.express as px\n",
    "\n",
    "%matplotlib inline"
   ]
  },
  {
   "cell_type": "code",
   "execution_count": 2,
   "metadata": {},
   "outputs": [],
   "source": [
    "datacovid = pd.read_excel('datasetcovidjktid.xlsx',sheet_name='dataset')"
   ]
  },
  {
   "cell_type": "code",
   "execution_count": 7,
   "metadata": {},
   "outputs": [
    {
     "name": "stdout",
     "output_type": "stream",
     "text": [
      "0     2020-03-01\n",
      "1     2020-03-02\n",
      "2     2020-03-03\n",
      "3     2020-03-04\n",
      "4     2020-03-05\n",
      "         ...    \n",
      "759   2022-03-30\n",
      "760   2022-03-31\n",
      "761   2022-04-01\n",
      "762   2022-04-02\n",
      "763   2022-04-03\n",
      "Name: Tanggal, Length: 764, dtype: datetime64[ns]\n"
     ]
    }
   ],
   "source": [
    "datacovid['Tanggal'] = pd.to_datetime(datacovid.Tanggal)\n",
    "\n",
    "print(datacovid.Tanggal)"
   ]
  },
  {
   "cell_type": "code",
   "execution_count": 12,
   "metadata": {},
   "outputs": [
    {
     "data": {
      "text/plain": [
       "764"
      ]
     },
     "execution_count": 12,
     "metadata": {},
     "output_type": "execute_result"
    }
   ],
   "source": [
    "len(datacovid.Tanggal)"
   ]
  },
  {
   "cell_type": "code",
   "execution_count": 11,
   "metadata": {},
   "outputs": [
    {
     "name": "stdout",
     "output_type": "stream",
     "text": [
      "0      01-03-2020\n",
      "1      02-03-2020\n",
      "2      03-03-2020\n",
      "3      04-03-2020\n",
      "4      05-03-2020\n",
      "          ...    \n",
      "759    30-03-2022\n",
      "760    31-03-2022\n",
      "761    01-04-2022\n",
      "762    02-04-2022\n",
      "763    03-04-2022\n",
      "Name: TanggalFormat, Length: 764, dtype: object\n"
     ]
    }
   ],
   "source": [
    "datacovid['TanggalFormat'] = datacovid['Tanggal'].dt.strftime('%d-%m-%Y')\n",
    "\n",
    "#startdate = datacovid['Tanggal'].iloc[0].dt.strftime('%d-%m-%Y')\n",
    "\n",
    "print(datacovid.TanggalFormat)"
   ]
  },
  {
   "cell_type": "code",
   "execution_count": 13,
   "metadata": {},
   "outputs": [
    {
     "data": {
      "text/plain": [
       "Index(['Tanggal', 'Variant_Suspect', 'Day', 'ID_CUM_POSITIVE',\n",
       "       'ID_CUM_HOSPITALIZED', 'ID_CUM_CURED', 'ID_CUM_DEATH',\n",
       "       'JKT_CUM_POSITIVE', 'JKT_CUM_HOSPITALIZED', 'JKT_CUM_CURED',\n",
       "       'JKT_CUM_DEATH', 'JKT_CUM_SELFISOLATION', 'JKT_CUM_ACTIVEPOSITIVE',\n",
       "       'ID_DAILY_POSITIVE', 'ID_DAILY_HOSPITALIZED', 'ID_DAILY_CURED',\n",
       "       'ID_DAILY_DEATH', 'JKT_DAILY_DEATH', 'JKT_DAILY_CURED',\n",
       "       'JKT_DAILY_ISOLATION', 'JKT_DAILY_HOSPITALIZED', 'JKT_DAILY_POSITIVE',\n",
       "       'JKT_DAILY_ACTIVEPOSITIVE', 'JKT_DAILY_TESTED', 'JKT_DAILY_POSTEST',\n",
       "       'JKT_DAILY_NEGTEST', 'JKT_DAILY_POSTRATE', 'PoF', 'JKT_CONS_VALUE',\n",
       "       'CoF', 'Risk', 'Risk_Criteria', 'TanggalFormat'],\n",
       "      dtype='object')"
      ]
     },
     "execution_count": 13,
     "metadata": {},
     "output_type": "execute_result"
    }
   ],
   "source": [
    "datacovid.columns"
   ]
  },
  {
   "cell_type": "code",
   "execution_count": 15,
   "metadata": {},
   "outputs": [
    {
     "name": "stdout",
     "output_type": "stream",
     "text": [
      "121798\n"
     ]
    }
   ],
   "source": [
    "hitung1 = datacovid.Day.sum()\n",
    "\n",
    "print(hitung1)"
   ]
  },
  {
   "cell_type": "code",
   "execution_count": 17,
   "metadata": {},
   "outputs": [
    {
     "name": "stdout",
     "output_type": "stream",
     "text": [
      "0.5670731707317073\n"
     ]
    }
   ],
   "source": [
    "max1 = datacovid.JKT_DAILY_POSTRATE.max()\n",
    "\n",
    "print(max1)"
   ]
  },
  {
   "cell_type": "code",
   "execution_count": null,
   "metadata": {},
   "outputs": [],
   "source": [
    "datacovid.describe(include=\"all\", datetime_is_numeric=True)"
   ]
  },
  {
   "cell_type": "code",
   "execution_count": 3,
   "metadata": {},
   "outputs": [
    {
     "data": {
      "text/plain": [
       "<AxesSubplot:xlabel='Variant_Suspect', ylabel='JKT_DAILY_DEATH'>"
      ]
     },
     "execution_count": 3,
     "metadata": {},
     "output_type": "execute_result"
    },
    {
     "data": {
      "image/png": "[encoded data removed]",
      "text/plain": [
       "<Figure size 432x288 with 1 Axes>"
      ]
     },
     "metadata": {
      "needs_background": "light"
     },
     "output_type": "display_data"
    }
   ],
   "source": [
    "sns.boxplot(x=\"Variant_Suspect\", y=\"JKT_DAILY_DEATH\", data=datacovid)"
   ]
  },
  {
   "cell_type": "code",
   "execution_count": 7,
   "metadata": {},
   "outputs": [
    {
     "data": {
      "text/plain": [
       "<AxesSubplot:xlabel='Variant_Suspect', ylabel='count'>"
      ]
     },
     "execution_count": 7,
     "metadata": {},
     "output_type": "execute_result"
    },
    {
     "data": {
      "image/png": "[encoded data removed]",
      "text/plain": [
       "<Figure size 432x288 with 1 Axes>"
      ]
     },
     "metadata": {
      "needs_background": "light"
     },
     "output_type": "display_data"
    }
   ],
   "source": [
    "sns.countplot(x=\"Variant_Suspect\", hue=\"Risk_Criteria\", data=datacovid)"
   ]
  },
  {
   "cell_type": "code",
   "execution_count": null,
   "metadata": {},
   "outputs": [],
   "source": [
    "covid_JKT = datacovid.loc[:,['Variant_Suspect','Day','JKT_DAILY_POSITIVE','JKT_DAILY_DEATH','JKT_DAILY_HOSPITALIZED','JKT_DAILY_POSTRATE','JKT_DAILY_TESTED','Risk','Risk_Criteria']]\n",
    "\n",
    "sns.pairplot(covid_JKT,hue='Variant_Suspect').fig.suptitle(\"Pair Plot Covid Jakarta\", y=1.01)"
   ]
  },
  {
   "cell_type": "code",
   "execution_count": null,
   "metadata": {},
   "outputs": [],
   "source": [
    "covid_ABG = datacovid.loc[datacovid.Variant_Suspect=='Alpha-Beta-Gamma',['Day','JKT_DAILY_POSITIVE','JKT_DAILY_DEATH','JKT_DAILY_HOSPITALIZED','JKT_DAILY_POSTRATE','JKT_DAILY_TESTED','Risk','Risk_Criteria']]\n",
    "covid_Delta = datacovid.loc[datacovid.Variant_Suspect=='Delta',['Day','JKT_DAILY_POSITIVE','JKT_DAILY_DEATH','JKT_DAILY_HOSPITALIZED','JKT_DAILY_POSTRATE','JKT_DAILY_TESTED','Risk','Risk_Criteria']]\n",
    "covid_Omicron = datacovid.loc[datacovid.Variant_Suspect=='Omicron',['Day','JKT_DAILY_POSITIVE','JKT_DAILY_DEATH','JKT_DAILY_HOSPITALIZED','JKT_DAILY_POSTRATE','JKT_DAILY_TESTED','Risk','Risk_Criteria']]"
   ]
  },
  {
   "cell_type": "code",
   "execution_count": null,
   "metadata": {},
   "outputs": [],
   "source": [
    "y1 = covid_ABG.JKT_DAILY_POSITIVE\n",
    "y2 = covid_Delta.JKT_DAILY_POSITIVE\n",
    "y3 = covid_Omicron.JKT_DAILY_POSITIVE\n",
    "\n",
    "x1 = covid_ABG.Day\n",
    "x2 = covid_Delta.Day\n",
    "x3 = covid_Omicron.Day\n",
    "\n",
    "plt.rcParams[\"figure.figsize\"] = (15,8)\n",
    "plt.plot(x1,y1,'--r',label=\"Daily Alpha-Beta-Gamma\")\n",
    "plt.plot(x2,y2,'-.b',label=\"Daily Delta\")\n",
    "plt.plot(x3,y3,'g', label=\"Daily Omicron\")\n",
    "plt.xlabel('Day#')\n",
    "plt.ylabel('People Positive Covid')\n",
    "plt.legend()\n",
    "plt.show()"
   ]
  },
  {
   "cell_type": "code",
   "execution_count": null,
   "metadata": {},
   "outputs": [],
   "source": [
    "sns.pairplot(covid_ABG).fig.suptitle(\"Pair Plot Covid Variant Alpha - Beta - Gamma\", y=1.01)\n",
    "sns.pairplot(covid_Delta).fig.suptitle(\"Pair Plot Covid Variant Delta\", y=1.01)\n",
    "sns.pairplot(covid_Omicron).fig.suptitle(\"Pair Plot Covid Variant Omicron\", y=1.01)"
   ]
  },
  {
   "cell_type": "code",
   "execution_count": null,
   "metadata": {},
   "outputs": [],
   "source": [
    "corrdata_ABG = covid_ABG.corr()\n",
    "\n",
    "corrdata_ABG"
   ]
  },
  {
   "cell_type": "code",
   "execution_count": null,
   "metadata": {},
   "outputs": [],
   "source": [
    "sns.heatmap(corrdata_ABG, annot=True)"
   ]
  },
  {
   "cell_type": "code",
   "execution_count": null,
   "metadata": {},
   "outputs": [],
   "source": [
    "corrdata_Delta = covid_Delta.corr()\n",
    "\n",
    "corrdata_Delta"
   ]
  },
  {
   "cell_type": "code",
   "execution_count": null,
   "metadata": {},
   "outputs": [],
   "source": [
    "sns.heatmap(corrdata_Delta, annot=True)"
   ]
  },
  {
   "cell_type": "code",
   "execution_count": null,
   "metadata": {},
   "outputs": [],
   "source": [
    "corrdata_Omicron = covid_Omicron.corr()\n",
    "\n",
    "corrdata_Omicron"
   ]
  },
  {
   "cell_type": "code",
   "execution_count": null,
   "metadata": {},
   "outputs": [],
   "source": [
    "sns.heatmap(corrdata_Delta, annot=True)"
   ]
  },
  {
   "cell_type": "code",
   "execution_count": 11,
   "metadata": {},
   "outputs": [
    {
     "data": {
      "text/plain": [
       "Index(['Tanggal', 'Variant_Suspect', 'Day', 'ID_CUM_POSITIVE',\n",
       "       'ID_CUM_HOSPITALIZED', 'ID_CUM_CURED', 'ID_CUM_DEATH',\n",
       "       'JKT_CUM_POSITIVE', 'JKT_CUM_HOSPITALIZED', 'JKT_CUM_CURED',\n",
       "       'JKT_CUM_DEATH', 'JKT_CUM_SELFISOLATION', 'JKT_CUM_ACTIVEPOSITIVE',\n",
       "       'ID_DAILY_POSITIVE', 'ID_DAILY_HOSPITALIZED', 'ID_DAILY_CURED',\n",
       "       'ID_DAILY_DEATH', 'JKT_DAILY_DEATH', 'JKT_DAILY_CURED',\n",
       "       'JKT_DAILY_ISOLATION', 'JKT_DAILY_HOSPITALIZED', 'JKT_DAILY_POSITIVE',\n",
       "       'JKT_DAILY_ACTIVEPOSITIVE', 'JKT_DAILY_TESTED', 'JKT_DAILY_POSTEST',\n",
       "       'JKT_DAILY_NEGTEST', 'JKT_DAILY_POSTRATE', 'PoF', 'JKT_CONS_VALUE',\n",
       "       'CoF', 'Risk', 'Risk_Criteria'],\n",
       "      dtype='object')"
      ]
     },
     "execution_count": 11,
     "metadata": {},
     "output_type": "execute_result"
    }
   ],
   "source": [
    "datacovid.columns"
   ]
  },
  {
   "cell_type": "code",
   "execution_count": 8,
   "metadata": {},
   "outputs": [
    {
     "data": {
      "application/vnd.plotly.v1+json": {
       "config": {
        "plotlyServerURL": "https://plot.ly"
       },
       "data": [
        {
         "fillpattern": {
          "shape": ""
         },
         "hovertemplate": "Variant_Suspect=Alpha-Beta-Gamma<br>Day=%{x}<br>JKT_DAILY_POSITIVE=%{y}<extra></extra>",
         "legendgroup": "Alpha-Beta-Gamma",
         "line": {
          "color": "#636efa"
         },
         "marker": {
          "symbol": "circle"
         },
         "mode": "lines",
         "name": "Alpha-Beta-Gamma",
         "orientation": "v",
         "showlegend": true,
         "stackgroup": "1",
         "type": "scatter",
         "x": [
          1,
          2,
          3,
          4,
          5,
          6,
          7,
          8,
          9,
          10,
          11,
          12,
          13,
          14,
          15,
          16,
          17,
          18,
          19,
          20,
          21,
          22,
          23,
          24,
          25,
          26,
          27,
          28,
          29,
          30,
          31,
          32,
          33,
          34,
          35,
          36,
          37,
          38,
          39,
          40,
          41,
          42,
          43,
          44,
          45,
          46,
          47,
          48,
          49,
          50,
          51,
          52,
          53,
          54,
          55,
          56,
          57,
          58,
          59,
          60,
          61,
          62,
          63,
          64,
          65,
          66,
          67,
          68,
          69,
          70,
          71,
          72,
          73,
          74,
          75,
          76,
          77,
          78,
          79,
          80,
          81,
          82,
          83,
          84,
          85,
          86,
          87,
          88,
          89,
          90,
          91,
          92,
          93,
          94,
          95,
          96,
          97,
          98,
          99,
          100,
          101,
          102,
          103,
          104,
          105,
          106,
          107,
          108,
          109,
          110,
          111,
          112,
          113,
          114,
          115,
          116,
          117,
          118,
          119,
          120,
          121,
          122,
          123,
          124,
          125,
          126,
          127,
          128,
          129,
          130,
          131,
          132,
          133,
          134,
          135,
          136,
          137,
          138,
          139,
          140,
          141,
          142,
          143,
          144,
          145,
          146,
          147,
          148,
          149,
          150,
          151,
          152,
          153,
          154,
          155,
          156,
          157,
          158,
          159,
          160,
          161,
          162,
          163,
          164,
          165,
          166,
          167,
          168,
          169,
          170,
          171,
          172,
          173,
          174,
          175,
          176,
          177,
          178,
          179,
          180,
          181,
          182,
          183,
          184,
          185,
          186,
          187,
          188,
          189,
          190,
          191,
          192,
          193,
          194,
          195,
          196,
          197,
          198,
          199,
          200,
          201,
          202,
          203,
          204,
          205,
          206,
          207,
          208,
          209,
          210,
          211,
          212,
          213,
          214,
          215,
          216,
          217,
          218,
          219,
          220,
          221,
          222,
          223,
          224,
          225,
          226,
          227,
          228,
          229,
          230,
          231,
          232,
          233,
          234,
          235,
          236,
          237,
          238,
          239,
          240,
          241,
          242,
          243,
          244,
          245,
          246,
          247,
          248,
          249,
          250,
          251,
          252,
          253,
          254,
          255,
          256,
          257,
          258,
          259,
          260,
          261,
          262,
          263,
          264,
          265,
          266,
          267,
          268,
          269,
          270,
          271,
          272,
          273,
          274,
          275,
          276,
          277,
          278,
          279,
          280,
          281,
          282,
          283,
          284,
          285,
          286,
          287,
          288,
          289,
          290,
          291,
          292,
          293,
          294,
          295,
          296,
          297,
          298,
          299,
          300,
          301,
          302,
          303,
          304,
          305,
          306,
          307,
          308,
          309,
          310,
          311,
          312,
          313,
          314,
          315,
          316,
          317,
          318,
          319,
          320,
          321,
          322,
          323,
          324,
          325,
          326,
          327,
          328,
          329,
          330,
          331,
          332,
          333,
          334,
          335,
          336,
          337,
          338,
          339,
          340,
          341,
          342,
          343,
          344,
          345,
          346,
          347,
          348,
          349,
          350,
          351,
          352,
          353,
          354,
          355,
          356,
          357,
          358,
          359,
          360,
          361,
          362,
          363,
          364,
          365,
          366,
          367,
          368,
          369,
          370,
          371,
          372,
          373,
          374,
          375,
          376,
          377,
          378,
          379,
          380,
          381,
          382,
          383,
          384,
          385,
          386,
          387,
          388,
          389,
          390,
          391,
          392,
          393,
          394,
          395,
          396,
          397,
          398,
          399,
          400,
          401,
          402,
          403,
          404,
          405,
          406,
          407,
          408,
          409,
          410,
          411,
          412,
          413,
          414,
          415,
          416,
          417,
          418,
          419,
          420,
          421,
          422,
          423,
          424,
          425,
          426,
          427,
          428
         ],
         "xaxis": "x",
         "y": [
          0,
          0,
          3,
          0,
          4,
          0,
          0,
          0,
          27,
          0,
          2,
          26,
          10,
          7,
          16,
          2,
          25,
          38,
          50,
          14,
          44,
          36,
          51,
          71,
          46,
          43,
          51,
          37,
          98,
          26,
          14,
          75,
          93,
          81,
          81,
          80,
          148,
          144,
          109,
          167,
          91,
          93,
          179,
          160,
          107,
          98,
          223,
          153,
          79,
          131,
          79,
          167,
          120,
          107,
          99,
          76,
          65,
          86,
          118,
          83,
          105,
          145,
          72,
          62,
          55,
          169,
          68,
          66,
          126,
          57,
          182,
          55,
          108,
          134,
          180,
          62,
          116,
          127,
          74,
          57,
          97,
          70,
          96,
          127,
          118,
          67,
          61,
          137,
          103,
          124,
          98,
          121,
          111,
          76,
          80,
          61,
          84,
          102,
          160,
          91,
          239,
          147,
          129,
          76,
          120,
          115,
          105,
          124,
          117,
          176,
          140,
          178,
          127,
          127,
          166,
          154,
          195,
          168,
          213,
          132,
          95,
          196,
          206,
          195,
          147,
          215,
          256,
          231,
          199,
          344,
          290,
          239,
          359,
          404,
          278,
          275,
          259,
          293,
          241,
          331,
          313,
          361,
          441,
          376,
          416,
          285,
          393,
          378,
          472,
          412,
          585,
          299,
          432,
          374,
          379,
          489,
          466,
          357,
          597,
          658,
          721,
          472,
          479,
          471,
          578,
          621,
          575,
          598,
          518,
          538,
          505,
          565,
          595,
          641,
          601,
          637,
          659,
          636,
          711,
          820,
          816,
          888,
          1114,
          1029,
          941,
          1053,
          1406,
          895,
          842,
          1245,
          1105,
          1015,
          1026,
          1450,
          1034,
          1440,
          1103,
          1062,
          1027,
          1505,
          1014,
          1403,
          932,
          1079,
          1310,
          1122,
          1187,
          1133,
          1289,
          1257,
          1186,
          807,
          1132,
          1059,
          1153,
          1098,
          1165,
          1430,
          822,
          1007,
          1340,
          1009,
          972,
          1253,
          1389,
          1168,
          1054,
          1038,
          1071,
          1045,
          974,
          971,
          926,
          964,
          1000,
          989,
          952,
          1062,
          771,
          906,
          781,
          844,
          713,
          612,
          750,
          608,
          1024,
          617,
          774,
          791,
          672,
          1118,
          826,
          716,
          1013,
          587,
          831,
          1033,
          1255,
          1165,
          1006,
          1038,
          1147,
          1185,
          1240,
          1579,
          1342,
          1009,
          1015,
          1273,
          1064,
          1436,
          1370,
          1431,
          1099,
          1058,
          1166,
          1153,
          1032,
          1360,
          1331,
          1466,
          1174,
          1237,
          1180,
          1232,
          951,
          1298,
          1566,
          1057,
          1221,
          1690,
          1587,
          1899,
          1592,
          1466,
          1311,
          1954,
          1933,
          2096,
          2058,
          1997,
          1678,
          2056,
          2053,
          2022,
          1956,
          1895,
          1657,
          1832,
          1824,
          2402,
          2398,
          2959,
          2753,
          2711,
          2461,
          2669,
          3476,
          3165,
          2541,
          3536,
          3395,
          2361,
          2563,
          3786,
          3151,
          3792,
          3285,
          3512,
          2451,
          2314,
          1836,
          2889,
          3448,
          3491,
          3474,
          3614,
          3362,
          3567,
          3632,
          3340,
          2379,
          4213,
          3144,
          3437,
          3309,
          2514,
          3810,
          3018,
          2496,
          1879,
          1861,
          1445,
          373,
          1920,
          2872,
          2720,
          2471,
          782,
          782,
          1581,
          1661,
          1737,
          2098,
          2058,
          578,
          1437,
          2008,
          1159,
          1616,
          1834,
          1783,
          867,
          1040,
          1754,
          1873,
          1034,
          1204,
          1555,
          835,
          1330,
          1719,
          1588,
          1937,
          1638,
          1474,
          815,
          890,
          1726,
          1381,
          1354,
          1470,
          1014,
          384,
          965,
          1337,
          1240,
          1098,
          736,
          523,
          487,
          862,
          1239,
          1013,
          977,
          1031,
          692,
          828,
          661,
          1330,
          979,
          1037,
          950,
          973,
          460,
          602,
          1266,
          884,
          907,
          896,
          749,
          393,
          639,
          987,
          789,
          926,
          854
         ],
         "yaxis": "y"
        },
        {
         "fillpattern": {
          "shape": ""
         },
         "hovertemplate": "Variant_Suspect=Delta<br>Day=%{x}<br>JKT_DAILY_POSITIVE=%{y}<extra></extra>",
         "legendgroup": "Delta",
         "line": {
          "color": "#EF553B"
         },
         "marker": {
          "symbol": "circle"
         },
         "mode": "lines",
         "name": "Delta",
         "orientation": "v",
         "showlegend": true,
         "stackgroup": "1",
         "type": "scatter",
         "x": [
          1,
          2,
          3,
          4,
          5,
          6,
          7,
          8,
          9,
          10,
          11,
          12,
          13,
          14,
          15,
          16,
          17,
          18,
          19,
          20,
          21,
          22,
          23,
          24,
          25,
          26,
          27,
          28,
          29,
          30,
          31,
          32,
          33,
          34,
          35,
          36,
          37,
          38,
          39,
          40,
          41,
          42,
          43,
          44,
          45,
          46,
          47,
          48,
          49,
          50,
          51,
          52,
          53,
          54,
          55,
          56,
          57,
          58,
          59,
          60,
          61,
          62,
          63,
          64,
          65,
          66,
          67,
          68,
          69,
          70,
          71,
          72,
          73,
          74,
          75,
          76,
          77,
          78,
          79,
          80,
          81,
          82,
          83,
          84,
          85,
          86,
          87,
          88,
          89,
          90,
          91,
          92,
          93,
          94,
          95,
          96,
          97,
          98,
          99,
          100,
          101,
          102,
          103,
          104,
          105,
          106,
          107,
          108,
          109,
          110,
          111,
          112,
          113,
          114,
          115,
          116,
          117,
          118,
          119,
          120,
          121,
          122,
          123,
          124,
          125,
          126,
          127,
          128,
          129,
          130,
          131,
          132,
          133,
          134,
          135,
          136,
          137,
          138,
          139,
          140,
          141,
          142,
          143,
          144,
          145,
          146,
          147,
          148,
          149,
          150,
          151,
          152,
          153,
          154,
          155,
          156,
          157,
          158,
          159,
          160,
          161,
          162,
          163,
          164,
          165,
          166,
          167,
          168,
          169,
          170,
          171,
          172,
          173,
          174,
          175,
          176,
          177,
          178,
          179,
          180,
          181,
          182,
          183,
          184,
          185,
          186,
          187,
          188,
          189,
          190,
          191,
          192,
          193,
          194,
          195,
          196,
          197,
          198,
          199,
          200,
          201,
          202,
          203,
          204,
          205,
          206,
          207,
          208
         ],
         "xaxis": "x",
         "y": [
          757,
          416,
          845,
          905,
          783,
          732,
          809,
          694,
          406,
          656,
          785,
          632,
          227,
          161,
          421,
          291,
          539,
          895,
          856,
          932,
          867,
          819,
          384,
          617,
          940,
          693,
          807,
          1064,
          726,
          519,
          601,
          714,
          906,
          1317,
          1019,
          1197,
          755,
          1371,
          2096,
          2293,
          2455,
          2769,
          2722,
          1502,
          2376,
          4144,
          4737,
          4895,
          5582,
          5014,
          3221,
          4693,
          7505,
          6934,
          9271,
          9394,
          8348,
          7379,
          7680,
          7541,
          9399,
          9702,
          10485,
          10903,
          9439,
          9366,
          12974,
          13112,
          12920,
          13133,
          14619,
          12182,
          12667,
          12691,
          12415,
          10168,
          9128,
          5000,
          6213,
          5904,
          7058,
          8033,
          8360,
          5393,
          2662,
          3567,
          5525,
          3845,
          3454,
          3327,
          2701,
          1410,
          1601,
          2981,
          2311,
          2185,
          2008,
          1649,
          727,
          1425,
          1958,
          1078,
          1210,
          1363,
          1182,
          513,
          655,
          1029,
          731,
          969,
          891,
          701,
          485,
          484,
          789,
          574,
          638,
          468,
          474,
          341,
          399,
          673,
          430,
          343,
          360,
          303,
          217,
          262,
          428,
          308,
          261,
          268,
          306,
          187,
          190,
          305,
          176,
          206,
          200,
          155,
          91,
          106,
          227,
          165,
          181,
          133,
          168,
          103,
          104,
          177,
          149,
          151,
          155,
          127,
          149,
          72,
          203,
          149,
          150,
          100,
          140,
          41,
          143,
          278,
          113,
          124,
          154,
          131,
          107,
          106,
          103,
          89,
          83,
          116,
          131,
          82,
          37,
          105,
          131,
          96,
          96,
          113,
          83,
          77,
          132,
          111,
          118,
          69,
          117,
          29,
          94,
          95,
          107,
          71,
          54,
          92,
          36,
          79,
          130,
          100,
          97,
          114,
          111,
          26,
          69,
          82,
          54,
          70
         ],
         "yaxis": "y"
        },
        {
         "fillpattern": {
          "shape": ""
         },
         "hovertemplate": "Variant_Suspect=Omicron<br>Day=%{x}<br>JKT_DAILY_POSITIVE=%{y}<extra></extra>",
         "legendgroup": "Omicron",
         "line": {
          "color": "#00cc96"
         },
         "marker": {
          "symbol": "circle"
         },
         "mode": "lines",
         "name": "Omicron",
         "orientation": "v",
         "showlegend": true,
         "stackgroup": "1",
         "type": "scatter",
         "x": [
          1,
          2,
          3,
          4,
          5,
          6,
          7,
          8,
          9,
          10,
          11,
          12,
          13,
          14,
          15,
          16,
          17,
          18,
          19,
          20,
          21,
          22,
          23,
          24,
          25,
          26,
          27,
          28,
          29,
          30,
          31,
          32,
          33,
          34,
          35,
          36,
          37,
          38,
          39,
          40,
          41,
          42,
          43,
          44,
          45,
          46,
          47,
          48,
          49,
          50,
          51,
          52,
          53,
          54,
          55,
          56,
          57,
          58,
          59,
          60,
          61,
          62,
          63,
          64,
          65,
          66,
          67,
          68,
          69,
          70,
          71,
          72,
          73,
          74,
          75,
          76,
          77,
          78,
          79,
          80,
          81,
          82,
          83,
          84,
          85,
          86,
          87,
          88,
          89,
          90,
          91,
          92,
          93,
          94,
          95,
          96,
          97,
          98,
          99,
          100,
          101,
          102,
          103,
          104,
          105,
          106,
          107,
          108,
          109,
          110,
          111,
          112,
          113,
          114,
          115,
          116,
          117,
          118,
          119,
          120,
          121,
          122,
          123,
          124,
          125,
          126,
          127,
          128
         ],
         "xaxis": "x",
         "y": [
          54,
          51,
          41,
          44,
          70,
          28,
          42,
          48,
          43,
          14,
          31,
          41,
          36,
          26,
          32,
          32,
          16,
          20,
          23,
          40,
          38,
          74,
          43,
          38,
          55,
          43,
          16,
          69,
          80,
          47,
          42,
          96,
          27,
          53,
          87,
          118,
          103,
          172,
          115,
          259,
          267,
          300,
          278,
          393,
          360,
          537,
          412,
          478,
          554,
          720,
          566,
          493,
          670,
          1012,
          1155,
          1484,
          1825,
          1739,
          1993,
          2190,
          3509,
          4149,
          4558,
          5765,
          6622,
          5262,
          6388,
          9132,
          10317,
          13179,
          12774,
          15825,
          12682,
          10817,
          14353,
          11090,
          10707,
          12417,
          10172,
          10275,
          9482,
          12388,
          8536,
          8189,
          9453,
          8136,
          5358,
          5208,
          7295,
          6855,
          4524,
          4675,
          3957,
          7300,
          3634,
          4196,
          4669,
          3727,
          3059,
          3669,
          2693,
          3569,
          3872,
          3546,
          2548,
          2105,
          1874,
          1307,
          1571,
          1706,
          1583,
          1516,
          1485,
          1167,
          862,
          1012,
          1235,
          1067,
          890,
          796,
          594,
          573,
          742,
          901,
          729,
          641,
          633,
          612
         ],
         "yaxis": "y"
        }
       ],
       "layout": {
        "legend": {
         "title": {
          "text": "Variant_Suspect"
         },
         "tracegroupgap": 0,
         "x": 0.65,
         "xanchor": "left",
         "y": 0.99,
         "yanchor": "top"
        },
        "margin": {
         "t": 60
        },
        "template": {
         "data": {
          "bar": [
           {
            "error_x": {
             "color": "#2a3f5f"
            },
            "error_y": {
             "color": "#2a3f5f"
            },
            "marker": {
             "line": {
              "color": "#E5ECF6",
              "width": 0.5
             },
             "pattern": {
              "fillmode": "overlay",
              "size": 10,
              "solidity": 0.2
             }
            },
            "type": "bar"
           }
          ],
          "barpolar": [
           {
            "marker": {
             "line": {
              "color": "#E5ECF6",
              "width": 0.5
             },
             "pattern": {
              "fillmode": "overlay",
              "size": 10,
              "solidity": 0.2
             }
            },
            "type": "barpolar"
           }
          ],
          "carpet": [
           {
            "aaxis": {
             "endlinecolor": "#2a3f5f",
             "gridcolor": "white",
             "linecolor": "white",
             "minorgridcolor": "white",
             "startlinecolor": "#2a3f5f"
            },
            "baxis": {
             "endlinecolor": "#2a3f5f",
             "gridcolor": "white",
             "linecolor": "white",
             "minorgridcolor": "white",
             "startlinecolor": "#2a3f5f"
            },
            "type": "carpet"
           }
          ],
          "choropleth": [
           {
            "colorbar": {
             "outlinewidth": 0,
             "ticks": ""
            },
            "type": "choropleth"
           }
          ],
          "contour": [
           {
            "colorbar": {
             "outlinewidth": 0,
             "ticks": ""
            },
            "colorscale": [
             [
              0,
              "#0d0887"
             ],
             [
              0.1111111111111111,
              "#46039f"
             ],
             [
              0.2222222222222222,
              "#7201a8"
             ],
             [
              0.3333333333333333,
              "#9c179e"
             ],
             [
              0.4444444444444444,
              "#bd3786"
             ],
             [
              0.5555555555555556,
              "#d8576b"
             ],
             [
              0.6666666666666666,
              "#ed7953"
             ],
             [
              0.7777777777777778,
              "#fb9f3a"
             ],
             [
              0.8888888888888888,
              "#fdca26"
             ],
             [
              1,
              "#f0f921"
             ]
            ],
            "type": "contour"
           }
          ],
          "contourcarpet": [
           {
            "colorbar": {
             "outlinewidth": 0,
             "ticks": ""
            },
            "type": "contourcarpet"
           }
          ],
          "heatmap": [
           {
            "colorbar": {
             "outlinewidth": 0,
             "ticks": ""
            },
            "colorscale": [
             [
              0,
              "#0d0887"
             ],
             [
              0.1111111111111111,
              "#46039f"
             ],
             [
              0.2222222222222222,
              "#7201a8"
             ],
             [
              0.3333333333333333,
              "#9c179e"
             ],
             [
              0.4444444444444444,
              "#bd3786"
             ],
             [
              0.5555555555555556,
              "#d8576b"
             ],
             [
              0.6666666666666666,
              "#ed7953"
             ],
             [
              0.7777777777777778,
              "#fb9f3a"
             ],
             [
              0.8888888888888888,
              "#fdca26"
             ],
             [
              1,
              "#f0f921"
             ]
            ],
            "type": "heatmap"
           }
          ],
          "heatmapgl": [
           {
            "colorbar": {
             "outlinewidth": 0,
             "ticks": ""
            },
            "colorscale": [
             [
              0,
              "#0d0887"
             ],
             [
              0.1111111111111111,
              "#46039f"
             ],
             [
              0.2222222222222222,
              "#7201a8"
             ],
             [
              0.3333333333333333,
              "#9c179e"
             ],
             [
              0.4444444444444444,
              "#bd3786"
             ],
             [
              0.5555555555555556,
              "#d8576b"
             ],
             [
              0.6666666666666666,
              "#ed7953"
             ],
             [
              0.7777777777777778,
              "#fb9f3a"
             ],
             [
              0.8888888888888888,
              "#fdca26"
             ],
             [
              1,
              "#f0f921"
             ]
            ],
            "type": "heatmapgl"
           }
          ],
          "histogram": [
           {
            "marker": {
             "pattern": {
              "fillmode": "overlay",
              "size": 10,
              "solidity": 0.2
             }
            },
            "type": "histogram"
           }
          ],
          "histogram2d": [
           {
            "colorbar": {
             "outlinewidth": 0,
             "ticks": ""
            },
            "colorscale": [
             [
              0,
              "#0d0887"
             ],
             [
              0.1111111111111111,
              "#46039f"
             ],
             [
              0.2222222222222222,
              "#7201a8"
             ],
             [
              0.3333333333333333,
              "#9c179e"
             ],
             [
              0.4444444444444444,
              "#bd3786"
             ],
             [
              0.5555555555555556,
              "#d8576b"
             ],
             [
              0.6666666666666666,
              "#ed7953"
             ],
             [
              0.7777777777777778,
              "#fb9f3a"
             ],
             [
              0.8888888888888888,
              "#fdca26"
             ],
             [
              1,
              "#f0f921"
             ]
            ],
            "type": "histogram2d"
           }
          ],
          "histogram2dcontour": [
           {
            "colorbar": {
             "outlinewidth": 0,
             "ticks": ""
            },
            "colorscale": [
             [
              0,
              "#0d0887"
             ],
             [
              0.1111111111111111,
              "#46039f"
             ],
             [
              0.2222222222222222,
              "#7201a8"
             ],
             [
              0.3333333333333333,
              "#9c179e"
             ],
             [
              0.4444444444444444,
              "#bd3786"
             ],
             [
              0.5555555555555556,
              "#d8576b"
             ],
             [
              0.6666666666666666,
              "#ed7953"
             ],
             [
              0.7777777777777778,
              "#fb9f3a"
             ],
             [
              0.8888888888888888,
              "#fdca26"
             ],
             [
              1,
              "#f0f921"
             ]
            ],
            "type": "histogram2dcontour"
           }
          ],
          "mesh3d": [
           {
            "colorbar": {
             "outlinewidth": 0,
             "ticks": ""
            },
            "type": "mesh3d"
           }
          ],
          "parcoords": [
           {
            "line": {
             "colorbar": {
              "outlinewidth": 0,
              "ticks": ""
             }
            },
            "type": "parcoords"
           }
          ],
          "pie": [
           {
            "automargin": true,
            "type": "pie"
           }
          ],
          "scatter": [
           {
            "fillpattern": {
             "fillmode": "overlay",
             "size": 10,
             "solidity": 0.2
            },
            "type": "scatter"
           }
          ],
          "scatter3d": [
           {
            "line": {
             "colorbar": {
              "outlinewidth": 0,
              "ticks": ""
             }
            },
            "marker": {
             "colorbar": {
              "outlinewidth": 0,
              "ticks": ""
             }
            },
            "type": "scatter3d"
           }
          ],
          "scattercarpet": [
           {
            "marker": {
             "colorbar": {
              "outlinewidth": 0,
              "ticks": ""
             }
            },
            "type": "scattercarpet"
           }
          ],
          "scattergeo": [
           {
            "marker": {
             "colorbar": {
              "outlinewidth": 0,
              "ticks": ""
             }
            },
            "type": "scattergeo"
           }
          ],
          "scattergl": [
           {
            "marker": {
             "colorbar": {
              "outlinewidth": 0,
              "ticks": ""
             }
            },
            "type": "scattergl"
           }
          ],
          "scattermapbox": [
           {
            "marker": {
             "colorbar": {
              "outlinewidth": 0,
              "ticks": ""
             }
            },
            "type": "scattermapbox"
           }
          ],
          "scatterpolar": [
           {
            "marker": {
             "colorbar": {
              "outlinewidth": 0,
              "ticks": ""
             }
            },
            "type": "scatterpolar"
           }
          ],
          "scatterpolargl": [
           {
            "marker": {
             "colorbar": {
              "outlinewidth": 0,
              "ticks": ""
             }
            },
            "type": "scatterpolargl"
           }
          ],
          "scatterternary": [
           {
            "marker": {
             "colorbar": {
              "outlinewidth": 0,
              "ticks": ""
             }
            },
            "type": "scatterternary"
           }
          ],
          "surface": [
           {
            "colorbar": {
             "outlinewidth": 0,
             "ticks": ""
            },
            "colorscale": [
             [
              0,
              "#0d0887"
             ],
             [
              0.1111111111111111,
              "#46039f"
             ],
             [
              0.2222222222222222,
              "#7201a8"
             ],
             [
              0.3333333333333333,
              "#9c179e"
             ],
             [
              0.4444444444444444,
              "#bd3786"
             ],
             [
              0.5555555555555556,
              "#d8576b"
             ],
             [
              0.6666666666666666,
              "#ed7953"
             ],
             [
              0.7777777777777778,
              "#fb9f3a"
             ],
             [
              0.8888888888888888,
              "#fdca26"
             ],
             [
              1,
              "#f0f921"
             ]
            ],
            "type": "surface"
           }
          ],
          "table": [
           {
            "cells": {
             "fill": {
              "color": "#EBF0F8"
             },
             "line": {
              "color": "white"
             }
            },
            "header": {
             "fill": {
              "color": "#C8D4E3"
             },
             "line": {
              "color": "white"
             }
            },
            "type": "table"
           }
          ]
         },
         "layout": {
          "annotationdefaults": {
           "arrowcolor": "#2a3f5f",
           "arrowhead": 0,
           "arrowwidth": 1
          },
          "autotypenumbers": "strict",
          "coloraxis": {
           "colorbar": {
            "outlinewidth": 0,
            "ticks": ""
           }
          },
          "colorscale": {
           "diverging": [
            [
             0,
             "#8e0152"
            ],
            [
             0.1,
             "#c51b7d"
            ],
            [
             0.2,
             "#de77ae"
            ],
            [
             0.3,
             "#f1b6da"
            ],
            [
             0.4,
             "#fde0ef"
            ],
            [
             0.5,
             "#f7f7f7"
            ],
            [
             0.6,
             "#e6f5d0"
            ],
            [
             0.7,
             "#b8e186"
            ],
            [
             0.8,
             "#7fbc41"
            ],
            [
             0.9,
             "#4d9221"
            ],
            [
             1,
             "#276419"
            ]
           ],
           "sequential": [
            [
             0,
             "#0d0887"
            ],
            [
             0.1111111111111111,
             "#46039f"
            ],
            [
             0.2222222222222222,
             "#7201a8"
            ],
            [
             0.3333333333333333,
             "#9c179e"
            ],
            [
             0.4444444444444444,
             "#bd3786"
            ],
            [
             0.5555555555555556,
             "#d8576b"
            ],
            [
             0.6666666666666666,
             "#ed7953"
            ],
            [
             0.7777777777777778,
             "#fb9f3a"
            ],
            [
             0.8888888888888888,
             "#fdca26"
            ],
            [
             1,
             "#f0f921"
            ]
           ],
           "sequentialminus": [
            [
             0,
             "#0d0887"
            ],
            [
             0.1111111111111111,
             "#46039f"
            ],
            [
             0.2222222222222222,
             "#7201a8"
            ],
            [
             0.3333333333333333,
             "#9c179e"
            ],
            [
             0.4444444444444444,
             "#bd3786"
            ],
            [
             0.5555555555555556,
             "#d8576b"
            ],
            [
             0.6666666666666666,
             "#ed7953"
            ],
            [
             0.7777777777777778,
             "#fb9f3a"
            ],
            [
             0.8888888888888888,
             "#fdca26"
            ],
            [
             1,
             "#f0f921"
            ]
           ]
          },
          "colorway": [
           "#636efa",
           "#EF553B",
           "#00cc96",
           "#ab63fa",
           "#FFA15A",
           "#19d3f3",
           "#FF6692",
           "#B6E880",
           "#FF97FF",
           "#FECB52"
          ],
          "font": {
           "color": "#2a3f5f"
          },
          "geo": {
           "bgcolor": "white",
           "lakecolor": "white",
           "landcolor": "#E5ECF6",
           "showlakes": true,
           "showland": true,
           "subunitcolor": "white"
          },
          "hoverlabel": {
           "align": "left"
          },
          "hovermode": "closest",
          "mapbox": {
           "style": "light"
          },
          "paper_bgcolor": "white",
          "plot_bgcolor": "#E5ECF6",
          "polar": {
           "angularaxis": {
            "gridcolor": "white",
            "linecolor": "white",
            "ticks": ""
           },
           "bgcolor": "#E5ECF6",
           "radialaxis": {
            "gridcolor": "white",
            "linecolor": "white",
            "ticks": ""
           }
          },
          "scene": {
           "xaxis": {
            "backgroundcolor": "#E5ECF6",
            "gridcolor": "white",
            "gridwidth": 2,
            "linecolor": "white",
            "showbackground": true,
            "ticks": "",
            "zerolinecolor": "white"
           },
           "yaxis": {
            "backgroundcolor": "#E5ECF6",
            "gridcolor": "white",
            "gridwidth": 2,
            "linecolor": "white",
            "showbackground": true,
            "ticks": "",
            "zerolinecolor": "white"
           },
           "zaxis": {
            "backgroundcolor": "#E5ECF6",
            "gridcolor": "white",
            "gridwidth": 2,
            "linecolor": "white",
            "showbackground": true,
            "ticks": "",
            "zerolinecolor": "white"
           }
          },
          "shapedefaults": {
           "line": {
            "color": "#2a3f5f"
           }
          },
          "ternary": {
           "aaxis": {
            "gridcolor": "white",
            "linecolor": "white",
            "ticks": ""
           },
           "baxis": {
            "gridcolor": "white",
            "linecolor": "white",
            "ticks": ""
           },
           "bgcolor": "#E5ECF6",
           "caxis": {
            "gridcolor": "white",
            "linecolor": "white",
            "ticks": ""
           }
          },
          "title": {
           "x": 0.05
          },
          "xaxis": {
           "automargin": true,
           "gridcolor": "white",
           "linecolor": "white",
           "ticks": "",
           "title": {
            "standoff": 15
           },
           "zerolinecolor": "white",
           "zerolinewidth": 2
          },
          "yaxis": {
           "automargin": true,
           "gridcolor": "white",
           "linecolor": "white",
           "ticks": "",
           "title": {
            "standoff": 15
           },
           "zerolinecolor": "white",
           "zerolinewidth": 2
          }
         }
        },
        "xaxis": {
         "anchor": "y",
         "domain": [
          0,
          1
         ],
         "title": {
          "text": "Day"
         }
        },
        "yaxis": {
         "anchor": "x",
         "domain": [
          0,
          1
         ],
         "title": {
          "text": "JKT_DAILY_POSITIVE"
         }
        }
       }
      }
     },
     "metadata": {},
     "output_type": "display_data"
    }
   ],
   "source": [
    "\n",
    "fig = px.area(datacovid, x=\"Day\", y=\"JKT_DAILY_POSITIVE\", color=\"Variant_Suspect\")\n",
    "\n",
    "fig.update_layout(legend=dict(\n",
    "    yanchor=\"top\",\n",
    "    y=0.99,\n",
    "    xanchor=\"left\",\n",
    "    x=0.65\n",
    "))\n",
    "\n",
    "\n",
    "fig.show()"
   ]
  },
  {
   "cell_type": "code",
   "execution_count": 17,
   "metadata": {},
   "outputs": [
    {
     "data": {
      "image/png": "[encoded data removed]",
      "text/plain": [
       "<Figure size 864x648 with 2 Axes>"
      ]
     },
     "metadata": {
      "needs_background": "light"
     },
     "output_type": "display_data"
    }
   ],
   "source": [
    "plt.rcParams[\"figure.figsize\"] = (12,9)\n",
    "\n",
    "fig, ax1 = plt.subplots()\n",
    "\n",
    "x = datacovid.Tanggal\n",
    "value1 = datacovid.JKT_DAILY_POSITIVE\n",
    "value2 = datacovid.JKT_DAILY_DEATH\n",
    "\n",
    "color = 'tab:red'\n",
    "ax1.set_xlabel('Tanggal')\n",
    "ax1.set_ylabel('Positif Harian', color=color)\n",
    "ax1.fill_between(x, value1, color=color)\n",
    "ax1.tick_params(axis='y', labelcolor=color)\n",
    "\n",
    "ax2 = ax1.twinx()  # instantiate a second axes that shares the same x-axis\n",
    "\n",
    "color = 'tab:green'\n",
    "ax2.set_ylabel('Meninggal Harian', color=color)  # we already handled the x-label with ax1\n",
    "ax2.fill_between(x, value2, color=color, alpha=0.7)\n",
    "ax2.tick_params(axis='y', labelcolor=color)\n",
    "\n",
    "fig.tight_layout()  # otherwise the right y-label is slightly clipped\n",
    "plt.show()"
   ]
  },
  {
   "cell_type": "code",
   "execution_count": 3,
   "metadata": {},
   "outputs": [
    {
     "data": {
      "image/png": "[encoded data removed]",
      "text/plain": [
       "<Figure size 800x600 with 1 Axes>"
      ]
     },
     "metadata": {},
     "output_type": "display_data"
    }
   ],
   "source": [
    "# data\n",
    "label = [\"A\", \"B\", \"C\"]\n",
    "val = [1,2,3]\n",
    "\n",
    "# append data and assign color\n",
    "label.append(\"\")\n",
    "val.append(sum(val))  # 50% blank\n",
    "colors = ['red', 'blue', 'green', 'k']\n",
    "\n",
    "# plot\n",
    "plt.figure(figsize=(8,6),dpi=100)\n",
    "\n",
    "wedges, labels=plt.pie(val, wedgeprops=dict(width=0.4,edgecolor='w'),labels=label, colors=colors)\n",
    "# I tried this method\n",
    "wedges[-1].set_visible(False)\n",
    "plt.show()"
   ]
  }
 ],
 "metadata": {
  "interpreter": {
   "hash": "6a3dd93142aaacb737855ce2287d938ef7d17f63e5f56ba191f8e29de51218d4"
  },
  "kernelspec": {
   "display_name": "Python 3.8.5 64-bit",
   "language": "python",
   "name": "python3"
  },
  "language_info": {
   "codemirror_mode": {
    "name": "ipython",
    "version": 3
   },
   "file_extension": ".py",
   "mimetype": "text/x-python",
   "name": "python",
   "nbconvert_exporter": "python",
   "pygments_lexer": "ipython3",
   "version": "3.9.7"
  },
  "orig_nbformat": 4
 },
 "nbformat": 4,
 "nbformat_minor": 2
}
