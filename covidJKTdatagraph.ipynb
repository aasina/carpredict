{
 "cells": [
  {
   "cell_type": "code",
   "execution_count": null,
   "metadata": {},
   "outputs": [],
   "source": []
  }
 ],
 "metadata": {
  "interpreter": {
   "hash": "0af63343b1b6c9e2ee9538a89e1e1604753fa93a79f7cd45f8db2539e51a0c87"
  },
  "kernelspec": {
   "display_name": "Python 3.9.7 ('sandboxML')",
   "language": "python",
   "name": "python3"
  },
  "language_info": {
   "name": "python",
   "version": "3.9.7"
  },
  "orig_nbformat": 4
 },
 "nbformat": 4,
 "nbformat_minor": 2
}
