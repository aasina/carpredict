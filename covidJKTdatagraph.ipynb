{
 "cells": [
  {
   "cell_type": "code",
   "execution_count": null,
   "metadata": {},
   "outputs": [
    {
     "ename": "",
     "evalue": "",
     "output_type": "error",
     "traceback": [
      "\u001b[1;31mError: The kernel died. View Jupyter <a href='command:jupyter.viewOutput'>log</a> for further details. \n",
      "Error: /home/ubuntu/miniconda3/envs/stenv/bin/python: No module named ipykernel_launcher..."
     ]
    }
   ],
   "source": [
    "import pandas as pd"
   ]
  }
 ],
 "metadata": {
  "interpreter": {
   "hash": "0af63343b1b6c9e2ee9538a89e1e1604753fa93a79f7cd45f8db2539e51a0c87"
  },
  "kernelspec": {
   "display_name": "Python 3.9.7 ('sandboxML')",
   "language": "python",
   "name": "python3"
  },
  "language_info": {
   "codemirror_mode": {
    "name": "ipython",
    "version": 3
   },
   "file_extension": ".py",
   "mimetype": "text/x-python",
   "name": "python",
   "nbconvert_exporter": "python",
   "pygments_lexer": "ipython3",
   "version": "3.9.7"
  },
  "orig_nbformat": 4
 },
 "nbformat": 4,
 "nbformat_minor": 2
}
